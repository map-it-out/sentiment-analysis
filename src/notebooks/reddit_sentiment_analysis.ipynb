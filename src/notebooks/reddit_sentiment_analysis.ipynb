{
 "cells": [
  {
   "cell_type": "markdown",
   "metadata": {},
   "source": [
    "# Reddit Cryptocurrency Sentiment Analysis\n",
    "\n",
    "This notebook performs sentiment analysis on cryptocurrency-related posts from Reddit. It uses:\n",
    "- PRAW for Reddit API access\n",
    "- NLTK for sentiment analysis\n",
    "- Pandas for data handling"
   ]
  },
  {
   "cell_type": "code",
   "execution_count": null,
   "metadata": {},
   "outputs": [],
   "source": [
    "# Install required packages\n",
    "!pip install praw pandas nltk python-dotenv matplotlib seaborn"
   ]
  },
  {
   "cell_type": "code",
   "execution_count": null,
   "metadata": {},
   "outputs": [],
   "source": [
    "import praw\n",
    "import pandas as pd\n",
    "import nltk\n",
    "from nltk.sentiment import SentimentIntensityAnalyzer\n",
    "import os\n",
    "from dotenv import load_dotenv\n",
    "\n",
    "# Download NLTK data\n",
    "nltk.download('vader_lexicon', quiet=True)"
   ]
  },
  {
   "cell_type": "markdown",
   "metadata": {},
   "source": [
    "## Setup Reddit API Credentials\n",
    "\n",
    "You'll need to set up your Reddit API credentials. You can either:\n",
    "1. Use a .env file\n",
    "2. Set the credentials directly in this notebook"
   ]
  },
  {
   "cell_type": "code",
   "execution_count": null,
   "metadata": {},
   "outputs": [],
   "source": [
    "# Option 1: Load from .env file\n",
    "load_dotenv()\n",
    "\n",
    "# Option 2: Set credentials directly\n",
    "# os.environ['REDDIT_CLIENT_ID'] = 'your_client_id'\n",
    "# os.environ['REDDIT_CLIENT_SECRET'] = 'your_client_secret'\n",
    "# os.environ['REDDIT_USER_AGENT'] = 'your_user_agent'"
   ]
  },
  {
   "cell_type": "code",
   "execution_count": null,
   "metadata": {},
   "outputs": [],
   "source": [
    "class RedditSentimentAnalyzer:\n",
    "    \"\"\"Reddit sentiment analyzer for cryptocurrency discussions\"\"\"\n",
    "    \n",
    "    def __init__(self):\n",
    "        \"\"\"Initialize Reddit API connection and sentiment analyzer\"\"\"\n",
    "        self.reddit = praw.Reddit(\n",
    "            client_id=os.getenv('REDDIT_CLIENT_ID'),\n",
    "            client_secret=os.getenv('REDDIT_CLIENT_SECRET'),\n",
    "            user_agent=os.getenv('REDDIT_USER_AGENT'),\n",
    "            read_only=True,\n",
    "            check_for_async=False\n",
    "        )\n",
    "        self.sia = SentimentIntensityAnalyzer()\n",
    "    \n",
    "    def scrape_posts(self, query='bitcoin', limit=100, subreddit='CryptoCurrency', sort='new'):\n",
    "        \"\"\"Scrape and analyze Reddit posts\"\"\"\n",
    "        posts_data = []\n",
    "        subreddit_instance = self.reddit.subreddit(subreddit)\n",
    "        \n",
    "        # Get posts based on sort method\n",
    "        if sort == 'new':\n",
    "            submissions = subreddit_instance.new(limit=limit)\n",
    "        elif sort == 'hot':\n",
    "            submissions = subreddit_instance.hot(limit=limit)\n",
    "        elif sort == 'top':\n",
    "            submissions = subreddit_instance.top(limit=limit)\n",
    "        elif sort == 'rising':\n",
    "            submissions = subreddit_instance.rising(limit=limit)\n",
    "        else:\n",
    "            submissions = subreddit_instance.new(limit=limit)\n",
    "        \n",
    "        for submission in submissions:\n",
    "            # Analyze sentiment\n",
    "            title_sentiment = self.sia.polarity_scores(submission.title)\n",
    "            selftext_sentiment = self.sia.polarity_scores(submission.selftext) if submission.selftext else None\n",
    "            \n",
    "            # Compile post data\n",
    "            post_data = {\n",
    "                'title': submission.title,\n",
    "                'text': submission.selftext,\n",
    "                'score': submission.score,\n",
    "                'num_comments': submission.num_comments,\n",
    "                'title_sentiment_compound': title_sentiment['compound'],\n",
    "                'title_sentiment_pos': title_sentiment['pos'],\n",
    "                'title_sentiment_neg': title_sentiment['neg'],\n",
    "                'title_sentiment_neu': title_sentiment['neu']\n",
    "            }\n",
    "            \n",
    "            if selftext_sentiment:\n",
    "                post_data.update({\n",
    "                    'text_sentiment_compound': selftext_sentiment['compound'],\n",
    "                    'text_sentiment_pos': selftext_sentiment['pos'],\n",
    "                    'text_sentiment_neg': selftext_sentiment['neg'],\n",
    "                    'text_sentiment_neu': selftext_sentiment['neu']\n",
    "                })\n",
    "            \n",
    "            posts_data.append(post_data)\n",
    "        \n",
    "        return pd.DataFrame(posts_data)\n",
    "    \n",
    "    def analyze_sentiment(self, df):\n",
    "        \"\"\"Analyze overall sentiment of posts\"\"\"\n",
    "        if df.empty:\n",
    "            return {'error': 'No data available for analysis'}\n",
    "        \n",
    "        def categorize_sentiment(score):\n",
    "            if score > 0.05:\n",
    "                return 'Positive'\n",
    "            elif score < -0.05:\n",
    "                return 'Negative'\n",
    "            return 'Neutral'\n",
    "        \n",
    "        sentiment_counts = df['title_sentiment_compound'].apply(categorize_sentiment).value_counts()\n",
    "        \n",
    "        return {\n",
    "            'total_posts': len(df),\n",
    "            'sentiment_distribution': sentiment_counts.to_dict(),\n",
    "            'average_sentiment': df['title_sentiment_compound'].mean()\n",
    "        }"
   ]
  },
  {
   "cell_type": "markdown",
   "metadata": {},
   "source": [
    "## Example Usage\n",
    "\n",
    "Let's analyze sentiment for cryptocurrency-related posts"
   ]
  },
  {
   "cell_type": "code",
   "execution_count": null,
   "metadata": {},
   "outputs": [],
   "source": [
    "# Initialize analyzer\n",
    "analyzer = RedditSentimentAnalyzer()\n",
    "\n",
    "# Try different sorting methods\n",
    "for sort_method in ['new', 'hot', 'top', 'rising']:\n",
    "    print(f\"\\nTrying {sort_method} posts...\")\n",
    "    posts_df = analyzer.scrape_posts(sort=sort_method, limit=50)\n",
    "    \n",
    "    if not posts_df.empty:\n",
    "        print(f\"Successfully retrieved posts using {sort_method} sorting\")\n",
    "        sentiment_summary = analyzer.analyze_sentiment(posts_df)\n",
    "        print(\"\\nSentiment Analysis Results:\")\n",
    "        print(sentiment_summary)\n",
    "        \n",
    "        # Save results\n",
    "        output_file = f'reddit_sentiment_{sort_method}.csv'\n",
    "        posts_df.to_csv(output_file, index=False)\n",
    "        print(f\"\\nResults saved to {output_file}\")\n",
    "        break\n",
    "else:\n",
    "    print(\"\\nFailed to retrieve posts with any sorting method\")"
   ]
  },
  {
   "cell_type": "markdown",
   "metadata": {},
   "source": [
    "## Visualize the Results\n",
    "\n",
    "Let's create some visualizations of our sentiment analysis results"
   ]
  },
  {
   "cell_type": "code",
   "execution_count": null,
   "metadata": {},
   "outputs": [],
   "source": [
    "try:\n",
    "    import matplotlib.pyplot as plt\n",
    "    import seaborn as sns\n",
    "    \n",
    "    # Assuming we have our posts_df from the previous cell\n",
    "    if 'posts_df' in locals() and not posts_df.empty:\n",
    "        # Create a figure with multiple subplots\n",
    "        fig, (ax1, ax2) = plt.subplots(1, 2, figsize=(15, 6))\n",
    "        \n",
    "        # Plot 1: Sentiment Distribution\n",
    "        sentiment_categories = posts_df['title_sentiment_compound'].apply(\n",
    "            lambda x: 'Positive' if x > 0.05 else ('Negative' if x < -0.05 else 'Neutral')\n",
    "        ).value_counts()\n",
    "        \n",
    "        sentiment_categories.plot(kind='pie', autopct='%1.1f%%', ax=ax1)\n",
    "        ax1.set_title('Sentiment Distribution')\n",
    "        \n",
    "        # Plot 2: Sentiment vs. Score\n",
    "        sns.scatterplot(data=posts_df, x='title_sentiment_compound', y='score', ax=ax2)\n",
    "        ax2.set_title('Post Score vs. Sentiment')\n",
    "        ax2.set_xlabel('Sentiment Score')\n",
    "        ax2.set_ylabel('Post Score')\n",
    "        \n",
    "        plt.tight_layout()\n",
    "        plt.show()\n",
    "    else:\n",
    "        print(\"No data available for visualization\")\n",
    "except ImportError:\n",
    "    print(\"Please install matplotlib and seaborn for visualizations:\")\n",
    "    print(\"!pip install matplotlib seaborn\")\n",
    "except Exception as e:\n",
    "    print(f\"Error creating visualizations: {str(e)}\")"
   ]
  }
 ],
 "metadata": {
  "kernelspec": {
   "display_name": "Python 3",
   "language": "python",
   "name": "python3"
  },
  "language_info": {
   "codemirror_mode": {
    "name": "ipython",
    "version": 3
   },
   "file_extension": ".py",
   "mimetype": "text/x-python",
   "name": "python",
   "nbconvert_exporter": "python",
   "pygments_lexer": "ipython3",
   "version": "3.9.0"
  }
 },
 "nbformat": 4,
 "nbformat_minor": 4
}
